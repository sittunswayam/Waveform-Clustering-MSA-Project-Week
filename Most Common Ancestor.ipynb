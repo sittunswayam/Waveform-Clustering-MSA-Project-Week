{
 "cells": [
  {
   "cell_type": "code",
   "execution_count": 1,
   "id": "7bc8960b",
   "metadata": {},
   "outputs": [],
   "source": [
    "# Import all packages here\n",
    "import pandas as pd\n",
    "import numpy as np\n",
    "import matplotlib.pyplot as plt \n",
    "import networkx as nx\n",
    "from pyvis.network import Network\n",
    "from collections import defaultdict\n",
    "import glob\n",
    "import os"
   ]
  },
  {
   "cell_type": "code",
   "execution_count": 2,
   "id": "16af9d7f",
   "metadata": {},
   "outputs": [],
   "source": [
    "df_device = pd.read_csv('../device_geo_data.csv')\n",
    "df_network = pd.read_csv('../network_parent_child_resynced.csv')"
   ]
  },
  {
   "cell_type": "code",
   "execution_count": 3,
   "id": "1dc46b94",
   "metadata": {},
   "outputs": [],
   "source": [
    "cluster_results_file = pd.read_csv('Clustering Results/H070A_result.csv')"
   ]
  },
  {
   "cell_type": "code",
   "execution_count": 20,
   "id": "f492ca54",
   "metadata": {},
   "outputs": [],
   "source": [
    "def most_common_ancestor(geo_id_list, roots, diagnostics = False):\n",
    "\n",
    "    path = []\n",
    "    \n",
    "    for i in range(0, len(geo_id_list)):\n",
    "        path.append(parent_path(geo_id_list[i]))\n",
    "    if (diagnostics == True):\n",
    "        print(path)\n",
    "        print('\\n')\n",
    "    \n",
    "    d = defaultdict(int)\n",
    "    for i in path:\n",
    "        for j in i:\n",
    "            d[j]+=1\n",
    "    if (diagnostics == True):\n",
    "        print('Dictionary: ',d)\n",
    "        print('\\n')\n",
    "\n",
    "    #printing root node of every path\n",
    "    if (diagnostics == True):\n",
    "        for k in path:\n",
    "            roots.append(k[len(k)-1])\n",
    "        print(roots)\n",
    "        print('\\n')        \n",
    "    \n",
    "    # Find item with Max Value in Dictionary\n",
    "    itemMaxValue = max(d.items(), key=lambda x: x[1])\n",
    "    if (diagnostics == True):\n",
    "        print('Maximum Value in Dictionary : ', itemMaxValue[1])\n",
    "        print('\\n')\n",
    "    \n",
    "    listOfKeys = list()\n",
    "    # Iterate over all the items in dictionary to find keys with max value\n",
    "    for key, value in d.items():\n",
    "        if value == itemMaxValue[1]:\n",
    "            listOfKeys.append(key)\n",
    "    if (diagnostics == True):\n",
    "        print('Most common ancestors : ', listOfKeys)\n",
    "        print('\\n')"
   ]
  },
  {
   "cell_type": "code",
   "execution_count": 21,
   "id": "52bcf1b2",
   "metadata": {},
   "outputs": [],
   "source": [
    "def parent_path(geo_id_entry, result = None):\n",
    "    # create a new result if no intermediate was given\n",
    "    if result is None:\n",
    "        result = []\n",
    "    try:\n",
    "        parent = df_merged[df_merged['geo_id']==geo_id_entry]['parent_id'].iloc[0]\n",
    "    except:\n",
    "        return\n",
    "    \n",
    "    result.append(parent)\n",
    "    parent_path(parent, result)\n",
    "    \n",
    "    return result"
   ]
  },
  {
   "cell_type": "code",
   "execution_count": 25,
   "id": "122830ea",
   "metadata": {},
   "outputs": [
    {
     "name": "stderr",
     "output_type": "stream",
     "text": [
      "/var/folders/fm/c1ww64d10qd453l8t8hrys300000gn/T/ipykernel_47195/1230877737.py:27: FutureWarning: In a future version of pandas all arguments of DataFrame.drop except for the argument 'labels' will be keyword-only\n",
      "  df_merged = df_merged.drop('mac',1)\n"
     ]
    }
   ],
   "source": [
    "cwd_path = os.getcwd()\n",
    "csv_files = glob.glob(os.path.join(cwd_path,'Clustering Results', \"*.csv\"))\n",
    "\n",
    "for f in csv_files[0:41]:\n",
    "\n",
    "    result_file = pd.read_csv(f)\n",
    "\n",
    "    device_clusters = {}\n",
    "\n",
    "    for i in range(len(set(result_file['y_pred']))):\n",
    "        device_clusters[i] = result_file[result_file['y_pred'] == i]['device_id'].to_list()\n",
    "\n",
    "    for counter, device_ids in device_clusters.items():\n",
    "\n",
    "        device_data = df_device.loc[df_device['mac'].isin(device_ids)]\n",
    "\n",
    "        # Joining the two dataframes for selected cluster\n",
    "        df_merged = pd.merge(device_data, df_network, on='geo_id',how='left')\n",
    "        df_merged = df_merged.dropna()\n",
    "\n",
    "        df_merged['geo_id'].value_counts()\n",
    "\n",
    "        # adds the frequency of occurence of a particular geo-id\n",
    "        df_merged['freq'] = df_merged.groupby('geo_id')['geo_id'].transform('count')\n",
    "\n",
    "        df_merged = df_merged.drop_duplicates(subset=['geo_id'])\n",
    "        df_merged = df_merged.drop('mac',1)\n",
    "\n",
    "        df_merged['parent_id'] = df_merged['parent_id'].astype(int)\n",
    "\n",
    "        roots = []\n",
    "        geo_id_list_input = df_merged['geo_id'].to_list()\n",
    "\n",
    "        if geo_id_list_input:\n",
    "            if (False):\n",
    "                print(\"Cluster {}\".format(counter+1))\n",
    "                print('\\n')\n",
    "            most_common_ancestor(geo_id_list_input, roots, False) \n",
    "            G = nx.from_pandas_edgelist(df_merged, source= 'parent_id', target= 'geo_id', edge_attr= 'freq', \n",
    "                                    create_using=nx.DiGraph())\n",
    "\n",
    "            net = Network('1000px', '1000px', directed = True, bgcolor='#222222', font_color='white')\n",
    "            net.from_nx(G)\n",
    "\n",
    "            result_path = cwd_path + '/Graph Results/' + f.split('/')[-1].split('.')[0] + '_cluster_' + str(counter) + '.html'\n",
    "            net.save_graph(result_path)"
   ]
  }
 ],
 "metadata": {
  "kernelspec": {
   "display_name": "Python 3 (ipykernel)",
   "language": "python",
   "name": "python3"
  },
  "language_info": {
   "codemirror_mode": {
    "name": "ipython",
    "version": 3
   },
   "file_extension": ".py",
   "mimetype": "text/x-python",
   "name": "python",
   "nbconvert_exporter": "python",
   "pygments_lexer": "ipython3",
   "version": "3.8.12"
  }
 },
 "nbformat": 4,
 "nbformat_minor": 5
}
