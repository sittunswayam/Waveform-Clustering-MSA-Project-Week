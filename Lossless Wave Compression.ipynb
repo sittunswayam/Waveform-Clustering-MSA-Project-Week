{
 "cells": [
  {
   "cell_type": "markdown",
   "id": "11f5caac",
   "metadata": {},
   "source": [
    "# Proof of Concept - Gorilla Compression"
   ]
  },
  {
   "cell_type": "code",
   "execution_count": 1,
   "id": "0a1f8637",
   "metadata": {},
   "outputs": [],
   "source": [
    "# Gorilla Compression is a lossless time series compression algorithm\n",
    "# Let us test if it is able to compress the data for us by checking difference between\n",
    "# input file sizes and output file sizes\n",
    "# Gorilla Compression works as follows"
   ]
  },
  {
   "cell_type": "code",
   "execution_count": 2,
   "id": "f36dd898",
   "metadata": {},
   "outputs": [],
   "source": [
    "#(a) Calculate the delta of delta\n",
    "#          D = (t_n − t_(n−1)) − (t_(n−1) − t_(n−2))\n",
    "#(b) If D is zero, then store a single ‘0’ bit\n",
    "#(c) If D is between [-63, 64], store ‘10’ followed by the value (7 bits)\n",
    "#(d) If D is between [-255, 256], store ‘110’ followed by the value (9 bits)\n",
    "#(e) if D is between [-2047, 2048], store ‘1110’ followed by the value (12 bits)\n",
    "#(f) Otherwise store ‘1111’ followed by D using 32 bits"
   ]
  },
  {
   "cell_type": "code",
   "execution_count": 3,
   "id": "40ef9c2d",
   "metadata": {},
   "outputs": [],
   "source": [
    "# Import all packages here\n",
    "import pandas as pd\n",
    "import numpy as np\n",
    "import matplotlib.pyplot as plt\n",
    "import seaborn as sns\n",
    "import gorillacompression as gc\n",
    "import glob\n",
    "import os"
   ]
  },
  {
   "cell_type": "code",
   "execution_count": 4,
   "id": "0a000854",
   "metadata": {},
   "outputs": [],
   "source": [
    "df_3vac1 = pd.read_csv('../fbc/3VAC1.csv')"
   ]
  },
  {
   "cell_type": "code",
   "execution_count": 5,
   "id": "ba6f6b80",
   "metadata": {},
   "outputs": [],
   "source": [
    "def change_to_list(row):\n",
    "    amplitudes_string = row['amplitudes'][1:-1]\n",
    "    amplitude_list = amplitudes_string.split(',')\n",
    "\n",
    "    map_object = map(int, amplitude_list)\n",
    "    amplitude_list_int = list(map_object)\n",
    "\n",
    "    return amplitude_list_int\n",
    "\n",
    "df_3vac1['amplitudes'] = df_3vac1.apply(lambda x: change_to_list(x), axis=1)"
   ]
  },
  {
   "cell_type": "code",
   "execution_count": 6,
   "id": "5b8ee812",
   "metadata": {},
   "outputs": [],
   "source": [
    "df_compressed = df_3vac1[['device_id','amplitudes']].copy()\n",
    "df_compressed.to_csv('temp1.csv')\n",
    "df_compressed['compressed_waveform'] = df_3vac1['amplitudes'].apply(lambda x: gc.ValuesEncoder.encode_all(x))\n",
    "df_compressed.drop(['amplitudes'], axis=1, inplace=True)\n",
    "df_compressed.to_csv('temp2.csv')"
   ]
  },
  {
   "cell_type": "code",
   "execution_count": 7,
   "id": "43c9bf2f",
   "metadata": {},
   "outputs": [],
   "source": [
    "# temp1.csv occupies ~ 64 MB on disk\n",
    "# temp2.csv occupies - 47 MB on disk\n",
    "# So the compression clearly works\n",
    "\n",
    "# Code has been removed from here but I tested decoding on one waveform, and it accurately matched input before\n",
    "# encoding. So this is clearly lossless"
   ]
  },
  {
   "cell_type": "code",
   "execution_count": 8,
   "id": "60ec1328",
   "metadata": {},
   "outputs": [],
   "source": [
    "# Let us generate compressed data for all our 40 nodes"
   ]
  },
  {
   "cell_type": "code",
   "execution_count": 1,
   "id": "761cd662",
   "metadata": {},
   "outputs": [],
   "source": [
    "# Decompressing the data is only a matter of callinng gc.ValuesDecoder.decode_all(x) on all encoded values"
   ]
  },
  {
   "cell_type": "markdown",
   "id": "79843b50",
   "metadata": {},
   "source": [
    "# Final Compression "
   ]
  },
  {
   "cell_type": "code",
   "execution_count": 9,
   "id": "f382a185",
   "metadata": {},
   "outputs": [],
   "source": [
    "cwd_path = os.getcwd()\n",
    "csv_files = glob.glob(os.path.join(cwd_path,'../fbc', \"*.csv\"))"
   ]
  },
  {
   "cell_type": "code",
   "execution_count": 10,
   "id": "63ceca38",
   "metadata": {},
   "outputs": [
    {
     "name": "stdout",
     "output_type": "stream",
     "text": [
      "Writing file #1 : 3VAE2_result.csv ...\n",
      "Writing file #2 : H070C_result.csv ...\n",
      "Writing file #3 : 3VAE1_result.csv ...\n",
      "Writing file #4 : H070A_result.csv ...\n",
      "Writing file #5 : W056E_result.csv ...\n",
      "Writing file #6 : H071A_result.csv ...\n",
      "Writing file #7 : 3VAH2_result.csv ...\n",
      "Writing file #8 : H030C_result.csv ...\n",
      "Writing file #9 : MGABT_result.csv ...\n",
      "Writing file #10 : H071B_result.csv ...\n",
      "Writing file #11 : 3VAH1_result.csv ...\n",
      "Writing file #12 : 3VAC1_result.csv ...\n",
      "Writing file #13 : MM103_result.csv ...\n",
      "Writing file #14 : 3WBM1_result.csv ...\n",
      "Writing file #15 : 3VAC2_result.csv ...\n",
      "Writing file #16 : MM104_result.csv ...\n",
      "Writing file #17 : MM106_result.csv ...\n",
      "Writing file #18 : ATLA1_result.csv ...\n",
      "Writing file #19 : MM122_result.csv ...\n",
      "Writing file #20 : H0182_result.csv ...\n",
      "Writing file #21 : W091A_result.csv ...\n",
      "Writing file #22 : MC050_result.csv ...\n",
      "Writing file #23 : MM109_result.csv ...\n",
      "Writing file #24 : MM119_result.csv ...\n",
      "Writing file #25 : W012B_result.csv ...\n",
      "Writing file #26 : W086A_result.csv ...\n",
      "Writing file #27 : W100A_result.csv ...\n",
      "Writing file #28 : MM126_result.csv ...\n",
      "Writing file #29 : 3WBN1_result.csv ...\n",
      "Writing file #30 : 3WBE1_result.csv ...\n",
      "Writing file #31 : H005A_result.csv ...\n",
      "Writing file #32 : 3VAK1_result.csv ...\n",
      "Writing file #33 : H005B_result.csv ...\n",
      "Writing file #34 : W081A_result.csv ...\n",
      "Writing file #35 : MM157_result.csv ...\n",
      "Writing file #36 : 3VAG1_result.csv ...\n",
      "Writing file #37 : 3VAK2_result.csv ...\n",
      "Writing file #38 : 3VAJ2_result.csv ...\n",
      "Writing file #39 : 3VAF1_result.csv ...\n",
      "Writing file #40 : 3VAF2_result.csv ...\n"
     ]
    }
   ],
   "source": [
    "ctr = 1\n",
    "\n",
    "for f in csv_files:\n",
    "\n",
    "    # read the csv file\n",
    "    df = pd.read_csv(f)\n",
    "    df['amplitudes'] = df.apply(lambda x: change_to_list(x), axis=1)\n",
    "    \n",
    "    df_temp = df[['device_id']].copy()\n",
    "    df_temp['compressed_waveform'] = df['amplitudes'].apply(lambda x: gc.ValuesEncoder.encode_all(x))\n",
    "    \n",
    "    result_path = cwd_path + '/Compression Results/'\n",
    "    result_path += f.split('/')[-1].split('.')[0] + '_result.csv'\n",
    "    \n",
    "    print(\"Writing file #{} : {}_result.csv ...\".format(ctr, f.split('/')[-1].split('.')[0]))\n",
    "    \n",
    "    ctr += 1\n",
    "    \n",
    "    df_temp.to_csv(result_path, index=False)"
   ]
  }
 ],
 "metadata": {
  "kernelspec": {
   "display_name": "Python 3 (ipykernel)",
   "language": "python",
   "name": "python3"
  },
  "language_info": {
   "codemirror_mode": {
    "name": "ipython",
    "version": 3
   },
   "file_extension": ".py",
   "mimetype": "text/x-python",
   "name": "python",
   "nbconvert_exporter": "python",
   "pygments_lexer": "ipython3",
   "version": "3.8.12"
  }
 },
 "nbformat": 4,
 "nbformat_minor": 5
}
